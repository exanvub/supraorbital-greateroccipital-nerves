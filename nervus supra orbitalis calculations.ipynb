{
 "cells": [
  {
   "cell_type": "code",
   "execution_count": 1,
   "id": "b02c349d",
   "metadata": {},
   "outputs": [
    {
     "ename": "FileNotFoundError",
     "evalue": "[Errno 2] No such file or directory: '/Users/nicolasvv/OneDrive - Vrije Universiteit Brussel/Onderzoek/n supraorbi occipitalis major/python xlsx files'",
     "output_type": "error",
     "traceback": [
      "\u001b[0;31m---------------------------------------------------------------------------\u001b[0m",
      "\u001b[0;31mFileNotFoundError\u001b[0m                         Traceback (most recent call last)",
      "\u001b[0;32m/var/folders/1n/vv9125_n1yd200xz43k_vm7h0000gn/T/ipykernel_93877/2782605026.py\u001b[0m in \u001b[0;36m<module>\u001b[0;34m\u001b[0m\n\u001b[1;32m      5\u001b[0m \u001b[0;32mimport\u001b[0m \u001b[0mnumpy\u001b[0m \u001b[0;32mas\u001b[0m \u001b[0mnp\u001b[0m\u001b[0;34m\u001b[0m\u001b[0;34m\u001b[0m\u001b[0m\n\u001b[1;32m      6\u001b[0m \u001b[0;32mimport\u001b[0m \u001b[0mos\u001b[0m\u001b[0;34m\u001b[0m\u001b[0;34m\u001b[0m\u001b[0m\n\u001b[0;32m----> 7\u001b[0;31m \u001b[0mos\u001b[0m\u001b[0;34m.\u001b[0m\u001b[0mchdir\u001b[0m\u001b[0;34m(\u001b[0m\u001b[0;34m'/Users/nicolasvv/OneDrive - Vrije Universiteit Brussel/Onderzoek/n supraorbi occipitalis major/python xlsx files'\u001b[0m\u001b[0;34m)\u001b[0m\u001b[0;34m\u001b[0m\u001b[0;34m\u001b[0m\u001b[0m\n\u001b[0m\u001b[1;32m      8\u001b[0m \u001b[0;34m\u001b[0m\u001b[0m\n\u001b[1;32m      9\u001b[0m \u001b[0mdata_f\u001b[0m  \u001b[0;34m=\u001b[0m \u001b[0mpd\u001b[0m\u001b[0;34m.\u001b[0m\u001b[0mread_excel\u001b[0m\u001b[0;34m(\u001b[0m\u001b[0;34m'158 supraorb python EDIT.xlsx'\u001b[0m\u001b[0;34m)\u001b[0m\u001b[0;34m\u001b[0m\u001b[0;34m\u001b[0m\u001b[0m\n",
      "\u001b[0;31mFileNotFoundError\u001b[0m: [Errno 2] No such file or directory: '/Users/nicolasvv/OneDrive - Vrije Universiteit Brussel/Onderzoek/n supraorbi occipitalis major/python xlsx files'"
     ]
    }
   ],
   "source": [
    "%matplotlib notebook\n",
    "from mpl_toolkits.mplot3d import Axes3D\n",
    "import matplotlib.pyplot as plt\n",
    "import pandas as pd\n",
    "import numpy as np\n",
    "import os \n",
    "os.chdir('/Users/nicolasvv/OneDrive - Vrije Universiteit Brussel/Onderzoek/n supraorbi occipitalis major/python xlsx files')\n",
    "\n",
    "data_f  = pd.read_excel('158 supraorb python EDIT.xlsx')\n",
    "data_f"
   ]
  },
  {
   "cell_type": "code",
   "execution_count": null,
   "id": "9302fc74",
   "metadata": {},
   "outputs": [],
   "source": []
  },
  {
   "cell_type": "code",
   "execution_count": null,
   "id": "1aa17ac9",
   "metadata": {},
   "outputs": [],
   "source": [
    "# defining veriables\n",
    "LEC = np.array(data_f.iloc[0, np.array([2,3,4])]).reshape(1,3)\n",
    "NP = np.array(data_f.iloc[1, np.array([2,3,4])]).reshape(1,3)\n",
    "REC = np.array(data_f.iloc[2, np.array([2,3,4])]).reshape(1,3)\n",
    "\n",
    "# Front left, but accualy the right nerve\n",
    "LSSO      = np.array(data_f.iloc[3, np.array([2,3,4])]).reshape(1,3) \n",
    "Lsplit    = np.array(data_f.iloc[4, np.array([2,3,4])]).reshape(1,3) \n",
    "LNSMMP    = np.array(data_f.iloc[5, np.array([2,3,4])]).reshape(1,3) \n",
    "LNSMM     = np.array(data_f.iloc[6, np.array([2,3,4])]).reshape(1,3) \n",
    "LNSMMD    = np.array(data_f.iloc[7, np.array([2,3,4])]).reshape(1,3) \n",
    "LNSMD     = np.array(data_f.iloc[8, np.array([2,3,4])]).reshape(1,3) \n",
    "LNSIMP    = np.array(data_f.iloc[10, np.array([2,3,4])]).reshape(1,3) \n",
    "LNSIM     = np.array(data_f.iloc[11, np.array([2,3,4])]).reshape(1,3) \n",
    "LNSIMD    = np.array(data_f.iloc[12, np.array([2,3,4])]).reshape(1,3) \n",
    "LNSID     = np.array(data_f.iloc[13, np.array([2,3,4])]).reshape(1,3) \n",
    "LNSLMP    = np.array(data_f.iloc[15, np.array([2,3,4])]).reshape(1,3) \n",
    "LNSLM     = np.array(data_f.iloc[16, np.array([2,3,4])]).reshape(1,3) \n",
    "LNSLMD    = np.array(data_f.iloc[17, np.array([2,3,4])]).reshape(1,3) \n",
    "LNSLD     = np.array(data_f.iloc[18, np.array([2,3,4])]).reshape(1,3) \n",
    "\n",
    "# Front Right, but accualy the left nerve\n",
    "RSSO      = np.array(data_f.iloc[3, np.array([7,8,9])]).reshape(1,3) \n",
    "Rsplit    = np.array(data_f.iloc[4, np.array([7,8,9])]).reshape(1,3) \n",
    "RNSMMP    = np.array(data_f.iloc[5, np.array([7,8,9])]).reshape(1,3) \n",
    "RNSMM     = np.array(data_f.iloc[6, np.array([7,8,9])]).reshape(1,3) \n",
    "RNSMMD    = np.array(data_f.iloc[7, np.array([7,8,9])]).reshape(1,3) \n",
    "RNSMD     = np.array(data_f.iloc[8, np.array([7,8,9])]).reshape(1,3) \n",
    "RNSIMP    = np.array(data_f.iloc[10, np.array([7,8,9])]).reshape(1,3) \n",
    "RNSIM     = np.array(data_f.iloc[11, np.array([7,8,9])]).reshape(1,3) \n",
    "RNSIMD    = np.array(data_f.iloc[12, np.array([7,8,9])]).reshape(1,3) \n",
    "RNSID     = np.array(data_f.iloc[13, np.array([7,8,9])]).reshape(1,3) \n",
    "RNSLMP    = np.array(data_f.iloc[15, np.array([7,8,9])]).reshape(1,3) \n",
    "RNSLM     = np.array(data_f.iloc[16, np.array([7,8,9])]).reshape(1,3) \n",
    "RNSLMD    = np.array(data_f.iloc[17, np.array([7,8,9])]).reshape(1,3) \n",
    "RNSLD     = np.array(data_f.iloc[18, np.array([7,8,9])]).reshape(1,3) "
   ]
  },
  {
   "cell_type": "code",
   "execution_count": null,
   "id": "b426b784",
   "metadata": {},
   "outputs": [],
   "source": [
    "# Distances\n",
    "\n",
    "LECREC= np.linalg.norm(REC - LEC)\n",
    "\n",
    "#mediale tak links:\n",
    "LsplitNSMMP= np.linalg.norm(Lsplit - LNSMMP)\n",
    "LsulcusNSMMP= np.linalg.norm(LSSO - LNSMMP)\n",
    "LNSMMPlnsmm= np.linalg.norm(LNSMMP - LNSMM)\n",
    "LNSMMlnsmmd= np.linalg.norm(LNSMM - LNSMMD)\n",
    "LNSMMDlnsmd= np.linalg.norm(LNSMMD - LNSMD)\n",
    "LsplitMedTotaal= LsplitNSMMP + LNSMMPlnsmm + LNSMMlnsmmd + LNSMMDlnsmd\n",
    "LsulcusMedTotaal= LsulcusNSMMP + LNSMMPlnsmm + LNSMMlnsmmd + LNSMMDlnsmd\n",
    "\n",
    "#intermed tak links:\n",
    "LsplitNSIMP= np.linalg.norm(Lsplit - LNSIMP)\n",
    "LsulcusNSIMP= np.linalg.norm(LSSO - LNSIMP)\n",
    "LNSIMPlnsim= np.linalg.norm(LNSIMP - LNSIM)\n",
    "LNSIMlnsimd= np.linalg.norm(LNSIM - LNSIMD)\n",
    "LNSIMDlnsid= np.linalg.norm(LNSIMD - LNSID)\n",
    "LsplitINTERMEDTotaal= LsplitNSIMP + LNSIMPlnsim + LNSIMlnsimd + LNSIMDlnsid\n",
    "LsulcusINTERMEDTotaal= LsulcusNSIMP + LNSIMPlnsim + LNSIMlnsimd + LNSIMDlnsid\n",
    "\n",
    "#laterale tak links:\n",
    "LsplitNSLMP= np.linalg.norm(Lsplit - LNSLMP)\n",
    "LsulcusNSLMP= np.linalg.norm(LSSO - LNSLMP)\n",
    "LNSLMPlnslm= np.linalg.norm(LNSLMP - LNSLM)\n",
    "LNSLMlnslmd= np.linalg.norm(LNSLM - LNSLMD)\n",
    "LNSLMDlnsld= np.linalg.norm(LNSLMD - LNSLD)\n",
    "LsplitLATERAALTotaal= LsplitNSLMP + LNSLMPlnslm + LNSLMlnslmd + LNSLMDlnsld\n",
    "LsulcusLATERAALTotaal= LsulcusNSLMP + LNSLMPlnslm + LNSLMlnslmd + LNSLMDlnsld\n",
    "\n",
    "#mediale tak Rechts:\n",
    "RsplitNSMMP= np.linalg.norm(Rsplit - RNSMMP)\n",
    "RsulcusNSMMP= np.linalg.norm(RSSO - RNSMMP)\n",
    "RNSMMPrnsmm= np.linalg.norm(RNSMMP - RNSMM)\n",
    "RNSMMrnsmmd= np.linalg.norm(RNSMM - RNSMMD)\n",
    "RNSMMDrnsmd= np.linalg.norm(RNSMMD - RNSMD)\n",
    "RsplitMedTotaal= RsplitNSMMP + RNSMMPrnsmm + RNSMMrnsmmd + RNSMMDrnsmd\n",
    "RsulcusMedTotaal= RsulcusNSMMP + RNSMMPrnsmm + RNSMMrnsmmd + RNSMMDrnsmd\n",
    "\n",
    "\n",
    "#intermed tak Rechts:\n",
    "RsplitNSIMP= np.linalg.norm(Rsplit - RNSIMP)\n",
    "RsulcusNSIMP= np.linalg.norm(RSSO - RNSIMP)\n",
    "RNSIMPrnsim= np.linalg.norm(RNSIMP - RNSIM)\n",
    "RNSIMrnsimd= np.linalg.norm(RNSIM - RNSIMD)\n",
    "RNSIMDrnsid= np.linalg.norm(RNSIMD - RNSID)\n",
    "RsplitINTERMEDTotaal= RsplitNSIMP + RNSIMPrnsim + RNSIMrnsimd + RNSIMDrnsid\n",
    "RsulcusINTERMEDTotaal= RsulcusNSIMP + RNSIMPrnsim + RNSIMrnsimd + RNSIMDrnsid\n",
    "\n",
    "\n",
    "#laterale tak Rechts:\n",
    "RsplitNSLMP= np.linalg.norm(Rsplit - RNSLMP)\n",
    "RsulcusNSLMP= np.linalg.norm(RSSO - RNSLMP)\n",
    "RNSLMPrnslm= np.linalg.norm(RNSLMP - RNSLM)\n",
    "RNSLMrnslmd= np.linalg.norm(RNSLM - RNSLMD)\n",
    "RNSLMDrnsld= np.linalg.norm(RNSLMD - RNSLD)\n",
    "RsplitLATERAALTotaal= RsplitNSLMP + RNSLMPrnslm + RNSLMrnslmd + RNSLMDrnsld\n",
    "RsulcusLATERAALTotaal= RsulcusNSLMP + RNSLMPrnslm + RNSLMrnslmd + RNSLMDrnsld\n",
    "\n",
    "#Afstanden tussen links en rechts\n",
    "\n",
    "LRsulcus = np.linalg.norm(LSSO - RSSO)\n",
    "LRsplit  = np.linalg.norm(Lsplit - Rsplit)\n",
    "LRec     = np.linalg.norm(REC - LEC)\n",
    "#Mediale tak:\n",
    "LRlnsmmp = np.linalg.norm(LNSMMP - RNSMMP)\n",
    "LRlnsmm  = np.linalg.norm(LNSMM - RNSMM)\n",
    "LRlnsmmd = np.linalg.norm(LNSMMD - RNSMMD)\n",
    "LRlnsmd  = np.linalg.norm(LNSMD - RNSMD)\n",
    "\n",
    "#Intermed tak:\n",
    "LRlnsimp = np.linalg.norm(LNSIMP - RNSIMP)\n",
    "LRlnsim  = np.linalg.norm(LNSIM - RNSIM)\n",
    "LRlnsimd = np.linalg.norm(LNSIMD - RNSIMD)\n",
    "LRlnsid  = np.linalg.norm(LNSID - RNSID)\n"
   ]
  },
  {
   "cell_type": "code",
   "execution_count": null,
   "id": "8997e6b7",
   "metadata": {},
   "outputs": [],
   "source": [
    "LRlnsid"
   ]
  },
  {
   "cell_type": "code",
   "execution_count": null,
   "id": "3090e4e1",
   "metadata": {},
   "outputs": [],
   "source": [
    "Variable_list = np.array (['LsplitNSMMP', 'LsulcusNSMMP', 'LNSMMPlnsmm', 'LNSMMlnsmmd', 'LNSMMDlnsmd', 'LsplitMedTotaal', 'LsulcusMedTotaal', \n",
    "                          'LsplitNSIMP', 'LsulcusNSIMP', 'LNSIMPlnsim', 'LNSIMlnsimd', 'LNSIMDlnsid', 'LsplitINTERMEDTotaal', 'LsulcusINTERMEDTotaal',\n",
    "                          'LsplitNSLMP', 'LsulcusNSLMP', 'LNSLMPlnslm', 'LNSLMlnslmd', 'LNSLMDlnsld', 'LsplitLATERAALTotaal', 'LsulcusLATERAALTotaal',\n",
    "                          'RsplitNSMMP', 'RsulcusNSMMP', 'RNSMMPrnsmm', 'RNSMMrnsmmd', 'RNSMMDrnsmd', 'RsplitMedTotaal', 'RsulcusMedTotaal', \n",
    "                           'RsplitNSIMP', 'RsulcusNSIMP', 'RNSIMPrnsim', 'RNSIMrnsimd', 'RNSIMDrnsid', 'RsplitINTERMEDTotaal', 'RsulcusINTERMEDTotaal',\n",
    "                          'RsplitNSLMP', 'RsulcusNSLMP', 'RNSLMPrnslm', 'RNSLMrnslmd', 'RNSLMDrnsld', 'RsplitLATERAALTotaal', 'RsulcusLATERAALTotaal', \n",
    "                          'LRsulcus', 'LRsplit', 'LRec', 'LRlnsmmp', 'LRlnsmm', 'LRlnsmmd', 'LRlnsmd', 'LRlnsimp', 'LRlnsim', 'LRlnsimd', 'LRlnsid']) #labels opsommen\n",
    "\n"
   ]
  },
  {
   "cell_type": "code",
   "execution_count": null,
   "id": "03dc278a",
   "metadata": {},
   "outputs": [],
   "source": [
    "Variable_list"
   ]
  },
  {
   "cell_type": "code",
   "execution_count": null,
   "id": "0a875994",
   "metadata": {},
   "outputs": [],
   "source": [
    "Result_list = np.array([LsplitNSMMP, LsulcusNSMMP, LNSMMPlnsmm, LNSMMlnsmmd, LNSMMDlnsmd, LsplitMedTotaal, LsulcusMedTotaal, \n",
    "                          LsplitNSIMP, LsulcusNSIMP, LNSIMPlnsim, LNSIMlnsimd, LNSIMDlnsid, LsplitINTERMEDTotaal, LsulcusINTERMEDTotaal,\n",
    "                          LsplitNSLMP, LsulcusNSLMP, LNSLMPlnslm, LNSLMlnslmd, LNSLMDlnsld, LsplitLATERAALTotaal, LsulcusLATERAALTotaal,\n",
    "                          RsplitNSMMP, RsulcusNSMMP, RNSMMPrnsmm, RNSMMrnsmmd, RNSMMDrnsmd, RsplitMedTotaal, RsulcusMedTotaal, \n",
    "                           RsplitNSIMP, RsulcusNSIMP, RNSIMPrnsim, RNSIMrnsimd, RNSIMDrnsid, RsplitINTERMEDTotaal, RsulcusINTERMEDTotaal,\n",
    "                          RsplitNSLMP, RsulcusNSLMP, RNSLMPrnslm, RNSLMrnslmd, RNSLMDrnsld, RsplitLATERAALTotaal, RsulcusLATERAALTotaal, \n",
    "                          LRsulcus, LRsplit, LRec, LRlnsmmp, LRlnsmm, LRlnsmmd, LRlnsmd, LRlnsimp, LRlnsim, LRlnsimd, LRlnsid])    #resultaten opsommen\n",
    "Result_list"
   ]
  },
  {
   "cell_type": "code",
   "execution_count": null,
   "id": "91ed1966",
   "metadata": {},
   "outputs": [],
   "source": [
    "Output = pd.DataFrame(Variable_list)    #exporteerbare dataframe maken\n",
    "Output['Result_list'] = Result_list"
   ]
  },
  {
   "cell_type": "code",
   "execution_count": null,
   "id": "3691a745",
   "metadata": {},
   "outputs": [],
   "source": [
    "Output"
   ]
  },
  {
   "cell_type": "code",
   "execution_count": null,
   "id": "5740857f",
   "metadata": {
    "scrolled": true
   },
   "outputs": [],
   "source": [
    "#name = Specimen\n",
    "#filename = \"%s.xlsx\" % name\n",
    "\n",
    "#Output.to_excel('Calculations for' + filename)\n",
    "\n",
    "Output.to_excel(\"specimen158.xlsx\")"
   ]
  },
  {
   "cell_type": "code",
   "execution_count": null,
   "id": "1a9ed498",
   "metadata": {},
   "outputs": [],
   "source": [
    "LEC"
   ]
  },
  {
   "cell_type": "code",
   "execution_count": null,
   "id": "7e1b3ab5",
   "metadata": {},
   "outputs": [],
   "source": []
  }
 ],
 "metadata": {
  "kernelspec": {
   "display_name": "Python 3 (ipykernel)",
   "language": "python",
   "name": "python3"
  },
  "language_info": {
   "codemirror_mode": {
    "name": "ipython",
    "version": 3
   },
   "file_extension": ".py",
   "mimetype": "text/x-python",
   "name": "python",
   "nbconvert_exporter": "python",
   "pygments_lexer": "ipython3",
   "version": "3.9.13"
  }
 },
 "nbformat": 4,
 "nbformat_minor": 5
}
